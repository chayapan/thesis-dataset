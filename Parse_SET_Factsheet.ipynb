{
 "cells": [
  {
   "cell_type": "code",
   "execution_count": 1,
   "metadata": {},
   "outputs": [
    {
     "name": "stdout",
     "output_type": "stream",
     "text": [
      "Collecting lxml\n",
      "\u001b[?25l  Downloading https://files.pythonhosted.org/packages/e7/a8/40115c84414c017e1a293f331709eb7534303d3ccd11ef805ac09b1481e7/lxml-4.4.1-cp37-cp37m-manylinux1_x86_64.whl (5.7MB)\n",
      "\u001b[K     |████████████████████████████████| 5.8MB 906kB/s eta 0:00:01     |█████▊                          | 1.0MB 1.0MB/s eta 0:00:05     |████████▋                       | 1.5MB 1.0MB/s eta 0:00:05     |██████████████                  | 2.5MB 1.0MB/s eta 0:00:04\n",
      "\u001b[?25hInstalling collected packages: lxml\n",
      "Successfully installed lxml-4.4.1\n"
     ]
    }
   ],
   "source": [
    "# Install a pip package in the current Jupyter kernel\n",
    "import sys\n",
    "!{sys.executable} -m pip install lxml"
   ]
  },
  {
   "cell_type": "code",
   "execution_count": 1,
   "metadata": {},
   "outputs": [],
   "source": [
    "import requests\n",
    "from lxml import html\n",
    "from dataset import Factsheet"
   ]
  },
  {
   "cell_type": "code",
   "execution_count": 2,
   "metadata": {
    "scrolled": true
   },
   "outputs": [
    {
     "name": "stdout",
     "output_type": "stream",
     "text": [
      "200 utf-8\n"
     ]
    },
    {
     "data": {
      "text/plain": [
       "{'Price (บาท)': '177.50',\n",
       " '52 Week High/Low': '216.00\\xa0/\\xa0161.00',\n",
       " 'P/E (X)': '9.54',\n",
       " 'P/BV (X)': '0.80',\n",
       " 'Paid-up (ลบ.)': '19,088.43',\n",
       " 'Market Cap (ลบ.)': '338,819.61'}"
      ]
     },
     "execution_count": 2,
     "metadata": {},
     "output_type": "execute_result"
    }
   ],
   "source": [
    "s = Factsheet(\"BBL\")\n",
    "s.value"
   ]
  },
  {
   "cell_type": "code",
   "execution_count": 5,
   "metadata": {},
   "outputs": [
    {
     "name": "stdout",
     "output_type": "stream",
     "text": [
      "200 utf-8\n"
     ]
    },
    {
     "data": {
      "text/plain": [
       "{'Price (บาท)': '115.00',\n",
       " '52 Week High/Low': '146.50\\xa0/\\xa0113.00',\n",
       " 'P/E (X)': '10.36',\n",
       " 'P/BV (X)': '0.99',\n",
       " 'Paid-up (ลบ.)': '33,955.81',\n",
       " 'Market Cap (ลบ.)': '390,488.19'}"
      ]
     },
     "execution_count": 5,
     "metadata": {},
     "output_type": "execute_result"
    }
   ],
   "source": [
    "s = Factsheet(\"SCB\")\n",
    "s.value"
   ]
  },
  {
   "cell_type": "code",
   "execution_count": 6,
   "metadata": {},
   "outputs": [
    {
     "name": "stdout",
     "output_type": "stream",
     "text": [
      "200 utf-8\n",
      "KTB\n",
      "{'Price (บาท)': '16.80', '52 Week High/Low': '20.60\\xa0/\\xa016.40', 'P/E (X)': '7.97', 'P/BV (X)': '0.74', 'Paid-up (ลบ.)': '71,976.72', 'Market Cap (ลบ.)': '234,797.83'}\n",
      "200 utf-8\n",
      "BAY\n",
      "{'Price (บาท)': '32.25', '52 Week High/Low': '41.25\\xa0/\\xa032.00', 'P/E (X)': '7.40', 'P/BV (X)': '0.92', 'Paid-up (ลบ.)': '73,557.62', 'Market Cap (ลบ.)': '237,223.32'}\n",
      "200 utf-8\n",
      "ASP\n",
      "{'Price (บาท)': '1.85', '52 Week High/Low': '3.78\\xa0/\\xa01.83', 'P/E (X)': '13.90', 'P/BV (X)': '0.85', 'Paid-up (ลบ.)': '2,105.66', 'Market Cap (ลบ.)': '3,895.46'}\n",
      "200 utf-8\n",
      "KGI\n",
      "{'Price (บาท)': '4.52', '52 Week High/Low': '5.00\\xa0/\\xa04.16', 'P/E (X)': '8.16', 'P/BV (X)': '1.56', 'Paid-up (ลบ.)': '1,991.76', 'Market Cap (ลบ.)': '9,002.77'}\n",
      "200 utf-8\n",
      "SCC\n",
      "{'Price (บาท)': '372.00', '52 Week High/Low': '490.00\\xa0/\\xa0367.00', 'P/E (X)': '11.55', 'P/BV (X)': '1.60', 'Paid-up (ลบ.)': '1,200.00', 'Market Cap (ลบ.)': '446,400.00'}\n"
     ]
    }
   ],
   "source": [
    "tickers = [\"KTB\", \"BAY\", \"ASP\", \"KGI\", \"SCC\"]\n",
    "for t in tickers:\n",
    "    s = Factsheet(t)\n",
    "    print(t)\n",
    "    print(s.value)"
   ]
  },
  {
   "cell_type": "code",
   "execution_count": 196,
   "metadata": {},
   "outputs": [],
   "source": [
    "class Position:\n",
    "    def __init__(self, symbol, position, cost):\n",
    "        self.symbol = symbol\n",
    "        self.position = position\n",
    "        self.cost = cost\n",
    "    @property\n",
    "    def factsheet(self):\n",
    "        f = Factsheet(self.symbol)\n",
    "        return f\n",
    "    def __repr__(self):\n",
    "        return \"\"\"<Position %s %s %s>\"\"\" % (self.symbol, self.cost, self.position)"
   ]
  },
  {
   "cell_type": "code",
   "execution_count": 215,
   "metadata": {},
   "outputs": [
    {
     "name": "stdout",
     "output_type": "stream",
     "text": [
      "['AMARIN', '40', '40', '40', '4.25', '4.84', '170.00', '193.60', '23.60', '13.88', '0.00']\n",
      "['BCP', '2,700', '2,700', '2,700', '31.47', '26.25', '84,969.00', '70,875.00', '-14,094.00', '-16.59', '0.00']\n",
      "['BEC', '3,000', '3,000', '3,000', '9.28', '7.40', '27,840.00', '22,200.00', '-5,640.00', '-20.26', '0.00']\n",
      "['BKKCP', '1,000', '1,000', '1,000', '12.37', '13.80', '12,370.00', '13,800.00', '1,430.00', '11.56', '0.00']\n",
      "['BLA', '1,600', '1,600', '1,600', '34.98', '20.00', '55,968.00', '32,000.00', '-23,968.00', '-42.82', '0.00']\n",
      "['BRR', '6,000', '6,000', '6,000', '7.27', '4.88', '43,620.00', '29,280.00', '-14,340.00', '-32.87', '0.00']\n",
      "['CHARAN', '600', '600', '600', '35.52', '22.00', '21,312.00', '13,200.00', '-8,112.00', '-38.06', '0.00']\n",
      "['DREIT', '24,330', '14,030', '14,030', '6.27', '6.60', '87,995.01', '92,598.00', '4,602.99', '5.23', '2,750.92']\n",
      "['ERWPF', '4,500', '4,500', '4,500', '6.51', '5.20', '29,295.00', '23,400.00', '-5,895.00', '-20.12', '0.00']\n",
      "['FTREIT', '20', '20', '20', '11.42', '17.90', '228.40', '358.00', '129.60', '56.74', '0.00']\n",
      "['HMPRO', '73', '73', '73', '6.06', '16.60', '442.38', '1,211.80', '769.42', '173.93', '0.00']\n",
      "['HPF', '7,200', '7,200', '7,200', '5.73', '4.96', '41,256.00', '35,712.00', '-5,544.00', '-13.44', '0.00']\n",
      "['KBANK', '300', '300', '300', '165.11', '152.00', '49,533.00', '45,600.00', '-3,933.00', '-7.94', '0.00']\n",
      "['KBS', '12,000', '12,000', '12,000', '4.82', '3.60', '57,840.00', '43,200.00', '-14,640.00', '-25.31', '0.00']\n",
      "['KPNPF', '6,700', '6,700', '6,700', '9.54', '8.70', '63,918.00', '58,290.00', '-5,628.00', '-8.81', '0.00']\n",
      "['KSL', '13,000', '13,000', '13,000', '3.40', '2.38', '44,200.00', '30,940.00', '-13,260.00', '-30.00', '0.00']\n",
      "['KTB', '3,500', '3,500', '3,500', '18.38', '17.00', '64,330.00', '59,500.00', '-4,830.00', '-7.51', '0.00']\n",
      "['LHPF', '3,000', '3,000', '3,000', '8.56', '9.10', '25,680.00', '27,300.00', '1,620.00', '6.31', '0.00']\n",
      "['NKI', '517', '517', '517', '56.23', '60.00', '29,070.91', '31,020.00', '1,949.09', '6.70', '0.00']\n",
      "['POPF', '3,500', '3,500', '3,500', '14.08', '13.50', '49,280.00', '47,250.00', '-2,030.00', '-4.12', '0.00']\n",
      "['PRG', '300', '300', '300', '12.72', '12.80', '3,816.00', '3,840.00', '24.00', '0.63', '0.00']\n",
      "['SAUCE', '1,300', '1,300', '1,300', '22.92', '22.70', '29,796.00', '29,510.00', '-286.00', '-0.96', '0.00']\n",
      "['SBPF', '9,000', '9,000', '9,000', '3.29', '2.88', '29,610.00', '25,920.00', '-3,690.00', '-12.46', '0.00']\n",
      "['SIRIP', '1,000', '1,000', '1,000', '11.12', '11.10', '11,120.00', '11,100.00', '-20.00', '-0.18', '0.00']\n",
      "['SMK', '500', '500', '500', '42.47', '36.25', '21,235.00', '18,125.00', '-3,110.00', '-14.65', '0.00']\n",
      "['SPRC', '7,500', '7,500', '7,500', '11.08', '9.05', '83,100.00', '67,875.00', '-15,225.00', '-18.32', '0.00']\n",
      "['TBSP', '100', '100', '100', '15.33', '14.70', '1,533.00', '1,470.00', '-63.00', '-4.11', '0.00']\n",
      "['TKS', '25', '25', '25', '4.39', '7.70', '109.75', '192.50', '82.75', '75.40', '0.00']\n",
      "['TMB', '30,000', '30,000', '30,000', '2.05', '1.53', '61,500.00', '45,900.00', '-15,600.00', '-25.37', '0.00']\n",
      "['UPOIC', '4,000', '4,000', '4,000', '4.50', '3.44', '18,000.00', '13,760.00', '-4,240.00', '-23.56', '0.00']\n",
      "['UVAN', '7,000', '7,000', '7,000', '8.36', '5.35', '58,520.00', '37,450.00', '-21,070.00', '-36.00', '0.00']\n",
      "{'AMARIN': <Position AMARIN 4.25 40>, 'BCP': <Position BCP 31.47 2,700>, 'BEC': <Position BEC 9.28 3,000>, 'BKKCP': <Position BKKCP 12.37 1,000>, 'BLA': <Position BLA 34.98 1,600>, 'BRR': <Position BRR 7.27 6,000>, 'CHARAN': <Position CHARAN 35.52 600>, 'DREIT': <Position DREIT 6.27 14,030>, 'ERWPF': <Position ERWPF 6.51 4,500>, 'FTREIT': <Position FTREIT 11.42 20>, 'HMPRO': <Position HMPRO 6.06 73>, 'HPF': <Position HPF 5.73 7,200>, 'KBANK': <Position KBANK 165.11 300>, 'KBS': <Position KBS 4.82 12,000>, 'KPNPF': <Position KPNPF 9.54 6,700>, 'KSL': <Position KSL 3.40 13,000>, 'KTB': <Position KTB 18.38 3,500>, 'LHPF': <Position LHPF 8.56 3,000>, 'NKI': <Position NKI 56.23 517>, 'POPF': <Position POPF 14.08 3,500>, 'PRG': <Position PRG 12.72 300>, 'SAUCE': <Position SAUCE 22.92 1,300>, 'SBPF': <Position SBPF 3.29 9,000>, 'SIRIP': <Position SIRIP 11.12 1,000>, 'SMK': <Position SMK 42.47 500>, 'SPRC': <Position SPRC 11.08 7,500>, 'TBSP': <Position TBSP 15.33 100>, 'TKS': <Position TKS 4.39 25>, 'TMB': <Position TMB 2.05 30,000>, 'UPOIC': <Position UPOIC 4.50 4,000>, 'UVAN': <Position UVAN 8.36 7,000>}\n"
     ]
    }
   ],
   "source": [
    "# DBSV 133595-7\n",
    "\n",
    "port7 = \"\"\"\n",
    "Symbol\tStart Position\tAvailable Position\tActual Position\tAvg. Price\tMarket Price\tAmount\tMkt. Value\tUnrealized P/L\tPercent Unrealized P/L\tRealized P/L\n",
    "AMARIN\t40\t40\t40\t4.25\t4.84\t170.00\t193.60\t23.60\t13.88\t0.00\n",
    "BCP\t2,700\t2,700\t2,700\t31.47\t26.25\t84,969.00\t70,875.00\t-14,094.00\t-16.59\t0.00\n",
    "BEC\t3,000\t3,000\t3,000\t9.28\t7.40\t27,840.00\t22,200.00\t-5,640.00\t-20.26\t0.00\n",
    "BKKCP\t1,000\t1,000\t1,000\t12.37\t13.80\t12,370.00\t13,800.00\t1,430.00\t11.56\t0.00\n",
    "BLA\t1,600\t1,600\t1,600\t34.98\t20.00\t55,968.00\t32,000.00\t-23,968.00\t-42.82\t0.00\n",
    "BRR\t6,000\t6,000\t6,000\t7.27\t4.88\t43,620.00\t29,280.00\t-14,340.00\t-32.87\t0.00\n",
    "CHARAN\t600\t600\t600\t35.52\t22.00\t21,312.00\t13,200.00\t-8,112.00\t-38.06\t0.00\n",
    "DREIT\t24,330\t14,030\t14,030\t6.27\t6.60\t87,995.01\t92,598.00\t4,602.99\t5.23\t2,750.92\n",
    "ERWPF\t4,500\t4,500\t4,500\t6.51\t5.20\t29,295.00\t23,400.00\t-5,895.00\t-20.12\t0.00\n",
    "FTREIT\t20\t20\t20\t11.42\t17.90\t228.40\t358.00\t129.60\t56.74\t0.00\n",
    "HMPRO\t73\t73\t73\t6.06\t16.60\t442.38\t1,211.80\t769.42\t173.93\t0.00\n",
    "HPF\t7,200\t7,200\t7,200\t5.73\t4.96\t41,256.00\t35,712.00\t-5,544.00\t-13.44\t0.00\n",
    "KBANK\t300\t300\t300\t165.11\t152.00\t49,533.00\t45,600.00\t-3,933.00\t-7.94\t0.00\n",
    "KBS\t12,000\t12,000\t12,000\t4.82\t3.60\t57,840.00\t43,200.00\t-14,640.00\t-25.31\t0.00\n",
    "KPNPF\t6,700\t6,700\t6,700\t9.54\t8.70\t63,918.00\t58,290.00\t-5,628.00\t-8.81\t0.00\n",
    "KSL\t13,000\t13,000\t13,000\t3.40\t2.38\t44,200.00\t30,940.00\t-13,260.00\t-30.00\t0.00\n",
    "KTB\t3,500\t3,500\t3,500\t18.38\t17.00\t64,330.00\t59,500.00\t-4,830.00\t-7.51\t0.00\n",
    "LHPF\t3,000\t3,000\t3,000\t8.56\t9.10\t25,680.00\t27,300.00\t1,620.00\t6.31\t0.00\n",
    "NKI\t517\t517\t517\t56.23\t60.00\t29,070.91\t31,020.00\t1,949.09\t6.70\t0.00\n",
    "POPF\t3,500\t3,500\t3,500\t14.08\t13.50\t49,280.00\t47,250.00\t-2,030.00\t-4.12\t0.00\n",
    "PRG\t300\t300\t300\t12.72\t12.80\t3,816.00\t3,840.00\t24.00\t0.63\t0.00\n",
    "SAUCE\t1,300\t1,300\t1,300\t22.92\t22.70\t29,796.00\t29,510.00\t-286.00\t-0.96\t0.00\n",
    "SBPF\t9,000\t9,000\t9,000\t3.29\t2.88\t29,610.00\t25,920.00\t-3,690.00\t-12.46\t0.00\n",
    "SIRIP\t1,000\t1,000\t1,000\t11.12\t11.10\t11,120.00\t11,100.00\t-20.00\t-0.18\t0.00\n",
    "SMK\t500\t500\t500\t42.47\t36.25\t21,235.00\t18,125.00\t-3,110.00\t-14.65\t0.00\n",
    "SPRC\t7,500\t7,500\t7,500\t11.08\t9.05\t83,100.00\t67,875.00\t-15,225.00\t-18.32\t0.00\n",
    "TBSP\t100\t100\t100\t15.33\t14.70\t1,533.00\t1,470.00\t-63.00\t-4.11\t0.00\n",
    "TKS\t25\t25\t25\t4.39\t7.70\t109.75\t192.50\t82.75\t75.40\t0.00\n",
    "TMB\t30,000\t30,000\t30,000\t2.05\t1.53\t61,500.00\t45,900.00\t-15,600.00\t-25.37\t0.00\n",
    "UPOIC\t4,000\t4,000\t4,000\t4.50\t3.44\t18,000.00\t13,760.00\t-4,240.00\t-23.56\t0.00\n",
    "UVAN\t7,000\t7,000\t7,000\t8.36\t5.35\t58,520.00\t37,450.00\t-21,070.00\t-36.00\t0.00\n",
    "\"\"\"\n",
    "\n",
    "rows = port7.split('\\n')\n",
    "portfolio7 = {}\n",
    "for r in rows:\n",
    "    if len(r) > 2:\n",
    "        if r.split()[0] != 'Symbol':\n",
    "            # print(type(r))\n",
    "            # print(r.split())\n",
    "            print(r.split())\n",
    "            symbol, start_pos, aval_pos, actual_pos, avg_price, mkt_price, cost_amt, mkt_value, v1,v2,v3 = r.split()\n",
    "            p = Position(symbol, actual_pos, avg_price)\n",
    "            portfolio7[symbol] = p\n",
    "print(portfolio7)"
   ]
  },
  {
   "cell_type": "code",
   "execution_count": 203,
   "metadata": {},
   "outputs": [
    {
     "name": "stdout",
     "output_type": "stream",
     "text": [
      "['BCP', '600', '600', '600', '30.62', '26.25', '18,372.00', '15,750.00', '-2,622.00', '-14.27', '0.00']\n",
      "['CPALL17PA', '300', '300', '300', '1,000.00', '1,000.00', '300,000.00', '300,000.00', '0.00', '0.00', '0.00']\n",
      "['KBANK', '100', '100', '100', '160.35', '152.00', '16,035.00', '15,200.00', '-835.00', '-5.21', '0.00']\n",
      "['MCOT', '11,000', '11,000', '11,000', '18.13', '10.20', '199,430.00', '112,200.00', '-87,230.00', '-43.74', '0.00']\n",
      "['PTT', '5,400', '5,400', '5,400', '47.36', '45.75', '255,744.00', '247,050.00', '-8,694.00', '-3.40', '0.00']\n",
      "['SCB', '900', '1,200', '1,200', '119.63', '115.00', '143,560.23', '138,000.00', '-5,560.23', '-3.87', '0.00']\n",
      "['SCC', '200', '300', '300', '434.89', '408.00', '130,465.99', '122,400.00', '-8,065.99', '-6.18', '0.00']\n",
      "{'BCP': <Position BCP 30.62 600>, 'CPALL17PA': <Position CPALL17PA 1,000.00 300>, 'KBANK': <Position KBANK 160.35 100>, 'MCOT': <Position MCOT 18.13 11,000>, 'PTT': <Position PTT 47.36 5,400>, 'SCB': <Position SCB 119.63 1,200>, 'SCC': <Position SCC 434.89 300>}\n"
     ]
    }
   ],
   "source": [
    "port1 = \"\"\"\n",
    "Symbol\tStart Position\tAvailable Position\tActual Position\tAvg. Price\tMarket Price\tAmount\tMkt. Value\tUnrealized P/L\tPercent Unrealized P/L\tRealized P/L\n",
    "BCP\t600\t600\t600\t30.62\t26.25\t18,372.00\t15,750.00\t-2,622.00\t-14.27\t0.00\n",
    "CPALL17PA\t300\t300\t300\t1,000.00\t1,000.00\t300,000.00\t300,000.00\t0.00\t0.00\t0.00\n",
    "KBANK\t100\t100\t100\t160.35\t152.00\t16,035.00\t15,200.00\t-835.00\t-5.21\t0.00\n",
    "MCOT\t11,000\t11,000\t11,000\t18.13\t10.20\t199,430.00\t112,200.00\t-87,230.00\t-43.74\t0.00\n",
    "PTT\t5,400\t5,400\t5,400\t47.36\t45.75\t255,744.00\t247,050.00\t-8,694.00\t-3.40\t0.00\n",
    "SCB\t900\t1,200\t1,200\t119.63\t115.00\t143,560.23\t138,000.00\t-5,560.23\t-3.87\t0.00\n",
    "SCC\t200\t300\t300\t434.89\t408.00\t130,465.99\t122,400.00\t-8,065.99\t-6.18\t0.00\n",
    "\"\"\"\n",
    "rows = port1.split('\\n')\n",
    "portfolio = {}\n",
    "for r in rows:\n",
    "    if len(r) > 2:\n",
    "        if r.split()[0] != 'Symbol':\n",
    "            # print(type(r))\n",
    "            # print(r.split())\n",
    "            print(r.split())\n",
    "            symbol, start_pos, aval_pos, actual_pos, avg_price, mkt_price, cost_amt, mkt_value, v1,v2,v3 = r.split()\n",
    "            p = Position(symbol, actual_pos, avg_price)\n",
    "            portfolio[symbol] = p\n",
    "print(portfolio)\n",
    "\n"
   ]
  },
  {
   "cell_type": "code",
   "execution_count": 204,
   "metadata": {},
   "outputs": [
    {
     "name": "stdout",
     "output_type": "stream",
     "text": [
      "DBSV -7\n",
      "200 utf-8\n",
      "KTB\n",
      "{'Price (บาท)': '17.00', '52 Week High/Low': '20.60\\xa0/\\xa016.40', 'P/E (X)': '8.07', 'P/BV (X)': '0.75', 'Paid-up (ลบ.)': '71,976.72', 'Market Cap (ลบ.)': '237,593.04'}\n",
      "200 utf-8\n",
      "BAY\n",
      "{'Price (บาท)': '33.25', '52 Week High/Low': '42.50\\xa0/\\xa033.25', 'P/E (X)': '7.63', 'P/BV (X)': '0.94', 'Paid-up (ลบ.)': '73,557.62', 'Market Cap (ลบ.)': '244,579.08'}\n",
      "200 utf-8\n",
      "ASP\n",
      "{'Price (บาท)': '2.04', '52 Week High/Low': '3.82\\xa0/\\xa01.99', 'P/E (X)': '15.33', 'P/BV (X)': '0.93', 'Paid-up (ลบ.)': '2,105.66', 'Market Cap (ลบ.)': '4,295.54'}\n",
      "200 utf-8\n",
      "KGI\n",
      "{'Price (บาท)': '4.48', '52 Week High/Low': '5.00\\xa0/\\xa04.16', 'P/E (X)': '8.09', 'P/BV (X)': '1.55', 'Paid-up (ลบ.)': '1,991.76', 'Market Cap (ลบ.)': '8,923.10'}\n",
      "200 utf-8\n",
      "SCC\n",
      "{'Price (บาท)': '408.00', '52 Week High/Low': '490.00\\xa0/\\xa0400.00', 'P/E (X)': '12.67', 'P/BV (X)': '1.76', 'Paid-up (ลบ.)': '1,200.00', 'Market Cap (ลบ.)': '489,600.00'}\n"
     ]
    }
   ],
   "source": [
    "\n",
    "print(\"DBSV -7\")\n",
    "tickers = [\"KTB\", \"BAY\", \"ASP\", \"KGI\", \"SCC\"]\n",
    "for t in tickers:\n",
    "    s = Factsheet(t)\n",
    "    print(t)\n",
    "    print(s.value)\n",
    "\n",
    "\n"
   ]
  },
  {
   "cell_type": "code",
   "execution_count": 205,
   "metadata": {},
   "outputs": [
    {
     "data": {
      "text/plain": [
       "'\\r\\n        \\r\\n          SCC\\r\\n          บริษัท ปูนซิเมนต์ไทย จำกัด(มหาชน)\\r\\n        \\r\\n      '"
      ]
     },
     "execution_count": 205,
     "metadata": {},
     "output_type": "execute_result"
    }
   ],
   "source": [
    "# Name\n",
    "\n",
    "s.tree.xpath('/html/body/table')[0].getchildren()[2].getchildren()[0].getchildren()[0].text_content()"
   ]
  },
  {
   "cell_type": "code",
   "execution_count": 216,
   "metadata": {},
   "outputs": [
    {
     "name": "stdout",
     "output_type": "stream",
     "text": [
      "AMARIN\n",
      "200 utf-8\n",
      "{'Price (บาท)': '4.84', '52 Week High/Low': '5.70\\xa0/\\xa04.00', 'P/E (X)': '27.01', 'P/BV (X)': '1.21', 'Paid-up (ลบ.)': '998.28', 'Market Cap (ลบ.)': '4,831.68'}\n",
      "BCP\n",
      "200 utf-8\n",
      "{'Price (บาท)': '27.25', '52 Week High/Low': '35.50\\xa0/\\xa025.25', 'P/E (X)': '35.67', 'P/BV (X)': '0.88', 'Paid-up (ลบ.)': '1,376.92', 'Market Cap (ลบ.)': '37,521.16'}\n",
      "BEC\n",
      "200 utf-8\n",
      "{'Price (บาท)': '7.45', '52 Week High/Low': '10.80\\xa0/\\xa04.66', 'P/E (X)': 'N/A', 'P/BV (X)': '2.57', 'Paid-up (ลบ.)': '2,000.00', 'Market Cap (ลบ.)': '14,900.00'}\n",
      "BKKCP\n",
      "200 utf-8\n",
      "{'Price (บาท)': '13.80', '52 Week High/Low': '14.10\\xa0/\\xa012.10', 'P/E (X)': '-', 'P/BV (X)': '1.02', 'Paid-up (ลบ.)': '1,000.00', 'Market Cap (ลบ.)': '1,380.00'}\n",
      "BLA\n",
      "200 utf-8\n",
      "{'Price (บาท)': '20.10', '52 Week High/Low': '35.75\\xa0/\\xa019.60', 'P/E (X)': '8.01', 'P/BV (X)': '0.77', 'Paid-up (ลบ.)': '1,707.57', 'Market Cap (ลบ.)': '34,322.08'}\n",
      "BRR\n",
      "200 utf-8\n",
      "{'Price (บาท)': '4.90', '52 Week High/Low': '7.45\\xa0/\\xa04.76', 'P/E (X)': '479.09', 'P/BV (X)': '1.66', 'Paid-up (ลบ.)': '812.10', 'Market Cap (ลบ.)': '3,979.29'}\n",
      "CHARAN\n",
      "200 utf-8\n",
      "{'Price (บาท)': '22.80', '52 Week High/Low': '34.00\\xa0/\\xa021.20', 'P/E (X)': 'N/A', 'P/BV (X)': '0.49', 'Paid-up (ลบ.)': '120.00', 'Market Cap (ลบ.)': '273.60'}\n",
      "DREIT\n",
      "200 utf-8\n",
      "{'Price (บาท)': '6.55', '52 Week High/Low': '6.74\\xa0/\\xa04.84', 'P/E (X)': '-', 'P/BV (X)': '0.71', 'Paid-up (ลบ.)': '6,300.47', 'Market Cap (ลบ.)': '4,660.32'}\n",
      "ERWPF\n",
      "200 utf-8\n",
      "{'Price (บาท)': '5.20', '52 Week High/Low': '5.75\\xa0/\\xa05.00', 'P/E (X)': '-', 'P/BV (X)': '0.60', 'Paid-up (ลบ.)': '1,629.42', 'Market Cap (ลบ.)': '915.72'}\n",
      "FTREIT\n",
      "200 utf-8\n",
      "{'Price (บาท)': '17.90', '52 Week High/Low': '18.70\\xa0/\\xa010.90', 'P/E (X)': '-', 'P/BV (X)': '1.69', 'Paid-up (ลบ.)': '24,817.14', 'Market Cap (ลบ.)': '46,582.73'}\n",
      "HMPRO\n",
      "200 utf-8\n",
      "{'Price (บาท)': '16.70', '52 Week High/Low': '18.80\\xa0/\\xa014.00', 'P/E (X)': '36.62', 'P/BV (X)': '10.86', 'Paid-up (ลบ.)': '13,151.20', 'Market Cap (ลบ.)': '219,625.01'}\n",
      "HPF\n",
      "200 utf-8\n",
      "{'Price (บาท)': '4.96', '52 Week High/Low': '5.55\\xa0/\\xa04.88', 'P/E (X)': '-', 'P/BV (X)': '0.50', 'Paid-up (ลบ.)': '4,629.50', 'Market Cap (ลบ.)': '2,331.20'}\n",
      "KBANK\n",
      "200 utf-8\n",
      "{'Price (บาท)': '157.00', '52 Week High/Low': '216.00\\xa0/\\xa0152.50', 'P/E (X)': '10.22', 'P/BV (X)': '0.95', 'Paid-up (ลบ.)': '23,932.60', 'Market Cap (ลบ.)': '375,741.85'}\n",
      "KBS\n",
      "200 utf-8\n",
      "{'Price (บาท)': '3.66', '52 Week High/Low': '4.54\\xa0/\\xa03.38', 'P/E (X)': '14.53', 'P/BV (X)': '0.60', 'Paid-up (ลบ.)': '600.00', 'Market Cap (ลบ.)': '2,196.00'}\n",
      "KPNPF\n",
      "200 utf-8\n",
      "{'Price (บาท)': '8.65', '52 Week High/Low': '9.60\\xa0/\\xa08.50', 'P/E (X)': '-', 'P/BV (X)': '0.82', 'Paid-up (ลบ.)': '1,800.00', 'Market Cap (ลบ.)': '1,557.00'}\n",
      "KSL\n",
      "200 utf-8\n",
      "{'Price (บาท)': '2.44', '52 Week High/Low': '3.86\\xa0/\\xa02.04', 'P/E (X)': '12.82', 'P/BV (X)': '0.58', 'Paid-up (ลบ.)': '2,205.12', 'Market Cap (ลบ.)': '10,760.97'}\n",
      "KTB\n",
      "200 utf-8\n",
      "{'Price (บาท)': '17.00', '52 Week High/Low': '20.60\\xa0/\\xa016.40', 'P/E (X)': '8.07', 'P/BV (X)': '0.75', 'Paid-up (ลบ.)': '71,976.72', 'Market Cap (ลบ.)': '237,593.04'}\n",
      "LHPF\n",
      "200 utf-8\n",
      "{'Price (บาท)': '9.10', '52 Week High/Low': '9.60\\xa0/\\xa08.00', 'P/E (X)': '-', 'P/BV (X)': '0.85', 'Paid-up (ลบ.)': '3,300.00', 'Market Cap (ลบ.)': '3,003.00'}\n",
      "NKI\n",
      "200 utf-8\n",
      "{'Price (บาท)': '60.00', '52 Week High/Low': '66.06\\xa0/\\xa048.00', 'P/E (X)': '71.98', 'P/BV (X)': '0.99', 'Paid-up (ลบ.)': '350.00', 'Market Cap (ลบ.)': '2,100.00'}\n",
      "POPF\n",
      "200 utf-8\n",
      "{'Price (บาท)': '13.50', '52 Week High/Low': '14.10\\xa0/\\xa013.00', 'P/E (X)': '-', 'P/BV (X)': '1.20', 'Paid-up (ลบ.)': '4,816.39', 'Market Cap (ลบ.)': '6,502.12'}\n",
      "PRG\n",
      "200 utf-8\n",
      "{'Price (บาท)': '12.80', '52 Week High/Low': '14.30\\xa0/\\xa09.90', 'P/E (X)': '23.32', 'P/BV (X)': '0.82', 'Paid-up (ลบ.)': '600.00', 'Market Cap (ลบ.)': '7,680.00'}\n",
      "SAUCE\n",
      "200 utf-8\n",
      "{'Price (บาท)': '22.70', '52 Week High/Low': '23.90\\xa0/\\xa021.60', 'P/E (X)': '18.37', 'P/BV (X)': '3.61', 'Paid-up (ลบ.)': '360.00', 'Market Cap (ลบ.)': '8,172.00'}\n",
      "SBPF\n",
      "200 utf-8\n",
      "{'Price (บาท)': '2.90', '52 Week High/Low': '3.50\\xa0/\\xa02.48', 'P/E (X)': '-', 'P/BV (X)': '0.45', 'Paid-up (ลบ.)': '828.00', 'Market Cap (ลบ.)': '240.12'}\n",
      "SIRIP\n",
      "200 utf-8\n",
      "{'Price (บาท)': '11.10', '52 Week High/Low': '12.50\\xa0/\\xa010.70', 'P/E (X)': '-', 'P/BV (X)': '0.94', 'Paid-up (ลบ.)': '1,700.00', 'Market Cap (ลบ.)': '1,887.00'}\n",
      "SMK\n",
      "200 utf-8\n",
      "{'Price (บาท)': '36.00', '52 Week High/Low': '42.00\\xa0/\\xa034.50', 'P/E (X)': '11.36', 'P/BV (X)': '1.13', 'Paid-up (ลบ.)': '200.00', 'Market Cap (ลบ.)': '7,200.00'}\n",
      "SPRC\n",
      "200 utf-8\n",
      "{'Price (บาท)': '9.25', '52 Week High/Low': '15.10\\xa0/\\xa07.35', 'P/E (X)': 'N/A', 'P/BV (X)': '1.07', 'Paid-up (ลบ.)': '30,004.44', 'Market Cap (ลบ.)': '40,107.09'}\n",
      "TBSP\n",
      "200 utf-8\n",
      "{'Price (บาท)': '13.70', '52 Week High/Low': '17.00\\xa0/\\xa012.00', 'P/E (X)': '14.00', 'P/BV (X)': '2.16', 'Paid-up (ลบ.)': '110.00', 'Market Cap (ลบ.)': '1,507.00'}\n",
      "TKS\n",
      "200 utf-8\n",
      "{'Price (บาท)': '7.70', '52 Week High/Low': '11.00\\xa0/\\xa06.95', 'P/E (X)': '16.84', 'P/BV (X)': '1.37', 'Paid-up (ลบ.)': '462.23', 'Market Cap (ลบ.)': '3,559.14'}\n",
      "TMB\n",
      "200 utf-8\n",
      "{'Price (บาท)': '1.56', '52 Week High/Low': '2.40\\xa0/\\xa01.43', 'P/E (X)': '10.73', 'P/BV (X)': '1.15', 'Paid-up (ลบ.)': '41,659.30', 'Market Cap (ลบ.)': '68,408.95'}\n",
      "UPOIC\n",
      "200 utf-8\n",
      "{'Price (บาท)': '3.50', '52 Week High/Low': '5.95\\xa0/\\xa03.44', 'P/E (X)': 'N/A', 'P/BV (X)': '1.11', 'Paid-up (ลบ.)': '324.05', 'Market Cap (ลบ.)': '1,134.18'}\n",
      "UVAN\n",
      "200 utf-8\n",
      "{'Price (บาท)': '5.25', '52 Week High/Low': '7.00\\xa0/\\xa05.05', 'P/E (X)': '15.58', 'P/BV (X)': '1.46', 'Paid-up (ลบ.)': '470.00', 'Market Cap (ลบ.)': '4,935.00'}\n"
     ]
    }
   ],
   "source": [
    "for k, p in portfolio7.items():\n",
    "    print(p.symbol)\n",
    "    f = p.factsheet\n",
    "    print(f.value)"
   ]
  },
  {
   "cell_type": "code",
   "execution_count": 207,
   "metadata": {},
   "outputs": [
    {
     "data": {
      "text/plain": [
       "[<Element tr at 0x7f31c9aef638>,\n",
       " <Element tr at 0x7f31c9ae4408>,\n",
       " <Element tr at 0x7f31cabc3598>,\n",
       " <Element tr at 0x7f31c9ad4958>,\n",
       " <Element tr at 0x7f31c9ad47c8>,\n",
       " <Element tr at 0x7f31c9ad48b8>,\n",
       " <Element tr at 0x7f31c9ad4728>,\n",
       " <Element tr at 0x7f31c9ad4368>,\n",
       " <Element tr at 0x7f31c9ad4098>,\n",
       " <Element tr at 0x7f31c9ad4868>,\n",
       " <Element tr at 0x7f31c9ad4638>,\n",
       " <Element tr at 0x7f31c9ad45e8>,\n",
       " <Element tr at 0x7f31c9ad4d18>,\n",
       " <Element tr at 0x7f31c9ad4138>,\n",
       " <Element tr at 0x7f31c9ad49f8>]"
      ]
     },
     "execution_count": 207,
     "metadata": {},
     "output_type": "execute_result"
    }
   ],
   "source": [
    "# s.tree.xpath('/html/body/table')[0].getchildren()[2].getchildren()[0].getchildren()[1].getchildren()\n",
    "\n",
    "table_data = s.tree.xpath('/html/body/table')[0].getchildren()[2].getchildren()[0].getchildren()[1].getchildren()\n",
    "table_data"
   ]
  },
  {
   "cell_type": "code",
   "execution_count": 208,
   "metadata": {},
   "outputs": [
    {
     "data": {
      "text/plain": [
       "'\\n    \\n  \\n    \\n  \\n    อสังหาริมทรัพย์และก่อสร้าง/วัสดุก่อสร้าง    \\n  \\n  \\n    SET50 / SETCLMV / SETHD / SETTHSI    \\n  \\n  \\n    CG Report: \\xa0\\xa0    \\n  \\n\\n\\n\\n\\xa0\\n\\n\\n  \\n    \\xa0\\xa0ข้อมูล ณ วันที่\\xa001 ต.ค. 2562\\xa0\\xa0\\n  \\n\\n    \\n  \\n\\n    \\n  '"
      ]
     },
     "execution_count": 208,
     "metadata": {},
     "output_type": "execute_result"
    }
   ],
   "source": [
    "table_data[0].text_content()"
   ]
  },
  {
   "cell_type": "code",
   "execution_count": 209,
   "metadata": {},
   "outputs": [
    {
     "data": {
      "text/plain": [
       "[<Element tr at 0x7f31cab98ea8>, <Element tr at 0x7f31c9a87868>]"
      ]
     },
     "execution_count": 209,
     "metadata": {},
     "output_type": "execute_result"
    }
   ],
   "source": [
    "table_data[1].getchildren()[0].getchildren()[0].getchildren()"
   ]
  },
  {
   "cell_type": "code",
   "execution_count": 210,
   "metadata": {},
   "outputs": [],
   "source": [
    "box = table_data[1].getchildren()[0].getchildren()[0].getchildren()\n",
    "row1 = box[0]\n",
    "row2 = box[1]"
   ]
  },
  {
   "cell_type": "code",
   "execution_count": 211,
   "metadata": {},
   "outputs": [
    {
     "name": "stdout",
     "output_type": "stream",
     "text": [
      "Price (บาท)\n",
      "52 Week High/Low\n",
      "P/E (X)\n",
      "P/BV (X)\n",
      "Paid-up (ลบ.)\n",
      "Market Cap (ลบ.)\n",
      "EV (ลบ.)\n",
      "EBITDA (ลบ.)\n",
      "EV/EBITDA\n"
     ]
    }
   ],
   "source": [
    "for e in row1.getchildren():\n",
    "    print(e.text_content())"
   ]
  },
  {
   "cell_type": "code",
   "execution_count": 212,
   "metadata": {},
   "outputs": [
    {
     "name": "stdout",
     "output_type": "stream",
     "text": [
      "408.00\n",
      "490.00 / 400.00\n",
      "12.67\n",
      "1.76\n",
      "1,200.00\n",
      "489,600.00\n",
      "804,238.44\n",
      "36,912.87\n",
      "10.32\n"
     ]
    }
   ],
   "source": [
    "for e in row2.getchildren():\n",
    "    print(e.text_content())"
   ]
  },
  {
   "cell_type": "code",
   "execution_count": null,
   "metadata": {},
   "outputs": [],
   "source": []
  }
 ],
 "metadata": {
  "kernelspec": {
   "display_name": "Python 3",
   "language": "python",
   "name": "python3"
  },
  "language_info": {
   "codemirror_mode": {
    "name": "ipython",
    "version": 3
   },
   "file_extension": ".py",
   "mimetype": "text/x-python",
   "name": "python",
   "nbconvert_exporter": "python",
   "pygments_lexer": "ipython3",
   "version": "3.7.3"
  }
 },
 "nbformat": 4,
 "nbformat_minor": 2
}
